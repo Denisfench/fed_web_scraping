{
 "cells": [
  {
   "cell_type": "markdown",
   "source": [
    "1. Select the last 4 month range\n",
    "2. Get all the speech urls from the returned result\n",
    "3. Fetch each page and extract speech body\n",
    "4. Analyze each speech for H and D using dictionaries."
   ],
   "metadata": {
    "collapsed": false,
    "pycharm": {
     "name": "#%% md\n"
    }
   }
  },
  {
   "cell_type": "code",
   "execution_count": 31,
   "outputs": [],
   "source": [
    "import requests\n",
    "from bs4 import BeautifulSoup\n",
    "from selenium import webdriver\n",
    "from selenium.webdriver.chrome.service import Service\n",
    "from webdriver_manager.chrome import ChromeDriverManager\n",
    "from selenium.webdriver.chrome.service import Service\n",
    "from selenium.webdriver.common.keys import Keys\n",
    "import os"
   ],
   "metadata": {
    "collapsed": false,
    "pycharm": {
     "name": "#%%\n"
    }
   }
  },
  {
   "cell_type": "code",
   "execution_count": 3,
   "outputs": [],
   "source": [
    "FED_URL = \"https://www.federalreserve.gov/newsevents/speeches.htm\""
   ],
   "metadata": {
    "collapsed": false,
    "pycharm": {
     "name": "#%%\n"
    }
   }
  },
  {
   "cell_type": "code",
   "execution_count": 4,
   "outputs": [
    {
     "name": "stdout",
     "output_type": "stream",
     "text": [
      "Instanciating Chrome web driver\n"
     ]
    },
    {
     "name": "stderr",
     "output_type": "stream",
     "text": [
      "[WDM] - Downloading: 100%|██████████| 7.72M/7.72M [00:01<00:00, 6.11MB/s]\n"
     ]
    }
   ],
   "source": [
    "print(\"Instanciating Chrome web driver\")\n",
    "\n",
    "HOME_DIR = \"/Users/dennisfenchenko/\"\n",
    "\n",
    "driver = webdriver.Chrome(service=Service(ChromeDriverManager().install()))"
   ],
   "metadata": {
    "collapsed": false,
    "pycharm": {
     "name": "#%%\n"
    }
   }
  },
  {
   "cell_type": "code",
   "execution_count": 21,
   "outputs": [],
   "source": [
    "START_DATE = \"06/20/2022\"\n",
    "END_DATE = \"10/20/2022\"\n",
    "\n",
    "def get_fed_speeches(start_date, end_date, pagination=1):\n",
    "    START_DATE_XPATH = \"//*[@id=\\\"content\\\"]/div[2]/div/div[1]/form/div[2]/div/div[1]/input\"\n",
    "    END_DATE_XPATH = \"//*[@id=\\\"content\\\"]/div[2]/div/div[1]/form/div[2]/div/div[2]/input\"\n",
    "    SUBMIT_BUTTON_XPATH = \"//*[@id=\\\"content\\\"]/div[2]/div/div[1]/form/div[5]/a\"\n",
    "    driver.get(FED_URL)\n",
    "    start_date_input_box = driver.find_element(\"xpath\", START_DATE_XPATH)\n",
    "    end_date_input_box = driver.find_element(\"xpath\", END_DATE_XPATH)\n",
    "    start_date_input_box.clear()\n",
    "    start_date_input_box.send_keys(start_date)\n",
    "    end_date_input_box.clear()\n",
    "    end_date_input_box.send_keys(end_date)\n",
    "    submit_button = driver.find_element(\"xpath\", SUBMIT_BUTTON_XPATH)\n",
    "    submit_button.click()\n",
    "    return driver.page_source"
   ],
   "metadata": {
    "collapsed": false,
    "pycharm": {
     "name": "#%%\n"
    }
   }
  },
  {
   "cell_type": "code",
   "execution_count": 22,
   "outputs": [],
   "source": [
    "doc_body = get_fed_speeches(START_DATE, END_DATE)"
   ],
   "metadata": {
    "collapsed": false,
    "pycharm": {
     "name": "#%%\n"
    }
   }
  },
  {
   "cell_type": "code",
   "execution_count": 124,
   "outputs": [],
   "source": [
    "# def get_fed_speeches_transcripts(all_speeches):\n",
    "#     SPEECH_TAG_NAME = 'em'\n",
    "#     soup = BeautifulSoup(all_speeches, 'html.parser')\n",
    "#     fed_speech_transcript_elem = soup.find_all(SPEECH_TAG_NAME)\n",
    "#     print(fed_speech_transcript_elem[0])\n",
    "#     print(type(fed_speech_transcript_elem[0]))\n",
    "#     fed_speech_transcripts = [elem.attrs['href'] for elem in\n",
    "#                               fed_speech_transcript_elem]\n",
    "#     return fed_speech_transcripts\n",
    "\n",
    "def get_fed_speech_links(all_speeches):\n",
    "    soup = BeautifulSoup(all_speeches, 'html.parser')\n",
    "    fed_page_links = soup.find_all(\"a\", href=True)\n",
    "    # print(fed_page_links)\n",
    "    fed_speech_transcript_links = [link['href'] for \\\n",
    "            link in fed_page_links if \"/speech/\" in link['href']]\n",
    "    return fed_speech_transcript_links"
   ],
   "metadata": {
    "collapsed": false,
    "pycharm": {
     "name": "#%%\n"
    }
   }
  },
  {
   "cell_type": "code",
   "execution_count": 147,
   "outputs": [],
   "source": [
    "import re\n",
    "\n",
    "def get_fed_speech_transcript_links(fed_speech_links):\n",
    "    DATE_LENGTH = 8\n",
    "    fed_speech_transcript_links = []\n",
    "    for link in fed_speech_links:\n",
    "        date = re.findall('[0-9]+', link)\n",
    "        if len(date) != 0:\n",
    "            date = date[0]\n",
    "        if len(date) == DATE_LENGTH:\n",
    "            fed_speech_transcript_links.append(link)\n",
    "    return fed_speech_transcript_links"
   ],
   "metadata": {
    "collapsed": false,
    "pycharm": {
     "name": "#%%\n"
    }
   }
  },
  {
   "cell_type": "code",
   "execution_count": 148,
   "outputs": [],
   "source": [
    "fed_page_links = get_fed_speech_links(doc_body)\n",
    "fed_page_transcript_links = get_fed_speech_transcript_links(fed_page_links)"
   ],
   "metadata": {
    "collapsed": false,
    "pycharm": {
     "name": "#%%\n"
    }
   }
  },
  {
   "cell_type": "code",
   "execution_count": 149,
   "outputs": [
    {
     "data": {
      "text/plain": "['/newsevents/speech/bowman20221020a.htm',\n '/newsevents/speech/bowman20221020a.htm',\n '/newsevents/speech/waller20221014a.htm',\n '/newsevents/speech/bowman20221012a.htm',\n '/newsevents/speech/barr20221012a.htm',\n '/newsevents/speech/brainard20221010a.htm',\n '/newsevents/speech/waller20221006a.htm',\n '/newsevents/speech/cook20221006a.htm',\n '/newsevents/speech/jefferson20221004a.htm',\n '/newsevents/speech/bowman20220930a.htm',\n '/newsevents/speech/brainard20220930a.htm',\n '/newsevents/speech/bowman20220928a.htm',\n '/newsevents/speech/powell20220928a.htm',\n '/newsevents/speech/waller20220909a.htm',\n '/newsevents/speech/barr20220907a.htm',\n '/newsevents/speech/brainard20220907a.htm',\n '/newsevents/speech/brainard20220829a.htm',\n '/newsevents/speech/brainard20220829a.htm',\n '/newsevents/speech/powell20220826a.htm',\n '/newsevents/speech/bowman20220817b.htm',\n '/newsevents/speech/bowman20220817a.htm',\n '/newsevents/speech/bowman20220806a.htm']"
     },
     "execution_count": 149,
     "metadata": {},
     "output_type": "execute_result"
    }
   ],
   "source": [
    "fed_page_transcript_links"
   ],
   "metadata": {
    "collapsed": false,
    "pycharm": {
     "name": "#%%\n"
    }
   }
  },
  {
   "cell_type": "code",
   "execution_count": 113,
   "outputs": [],
   "source": [],
   "metadata": {
    "collapsed": false,
    "pycharm": {
     "name": "#%%\n"
    }
   }
  },
  {
   "cell_type": "code",
   "execution_count": null,
   "outputs": [],
   "source": [],
   "metadata": {
    "collapsed": false,
    "pycharm": {
     "name": "#%%\n"
    }
   }
  }
 ],
 "metadata": {
  "kernelspec": {
   "display_name": "Python 3",
   "language": "python",
   "name": "python3"
  },
  "language_info": {
   "codemirror_mode": {
    "name": "ipython",
    "version": 2
   },
   "file_extension": ".py",
   "mimetype": "text/x-python",
   "name": "python",
   "nbconvert_exporter": "python",
   "pygments_lexer": "ipython2",
   "version": "2.7.6"
  }
 },
 "nbformat": 4,
 "nbformat_minor": 0
}